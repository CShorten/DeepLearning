{
 "cells": [
  {
   "cell_type": "code",
   "execution_count": 1,
   "metadata": {},
   "outputs": [],
   "source": [
    "import numpy as np\n",
    "import matplotlib.pyplot as plt\n",
    "import os\n",
    "\n",
    "class1_plot = np.ones((100,4))\n",
    "class2_plot = np.ones((100,4))\n",
    "total_data = np.ones((200,4))\n",
    "class1 = list(class1_plot)\n",
    "class2 = list(class2_plot)\n",
    "total_data = list(total_data)"
   ]
  },
  {
   "cell_type": "code",
   "execution_count": 2,
   "metadata": {},
   "outputs": [
    {
     "name": "stdout",
     "output_type": "stream",
     "text": [
      "101\n",
      "101\n"
     ]
    }
   ],
   "source": [
    "read_data = open(\"class1.txt\", \"r\")\n",
    "file_data = read_data.readlines()\n",
    "print(len(file_data))\n",
    "for i in range(len(file_data)):\n",
    "    file_data[i] = file_data[i].replace('\\n', '')\n",
    "    file_data[i] = file_data[i].split(',')\n",
    "    if (i != 0):\n",
    "        class1[i-1][1] = file_data[i][0]\n",
    "        class1[i-1][2] = file_data[i][1]\n",
    "        total_data[i-1] = class1[i-1]\n",
    "        \n",
    "read_data.close()\n",
    "read_data = open(\"class2.txt\", \"r\")\n",
    "file_data = read_data.readlines()\n",
    "print(len(file_data))\n",
    "\n",
    "for i in range(len(file_data)):\n",
    "    file_data[i] = file_data[i].replace('\\n', '')\n",
    "    file_data[i] = file_data[i].split(',')\n",
    "    if (i != 0):\n",
    "        class2[i-1][1] = file_data[i][0]\n",
    "        class2[i-1][2] = file_data[i][1]\n",
    "        class2[i-1][3] = -1\n",
    "        total_data[i+99] = class2[i-1]\n",
    "\n",
    "#print(type(total_data))"
   ]
  },
  {
   "cell_type": "code",
   "execution_count": 3,
   "metadata": {},
   "outputs": [
    {
     "name": "stdout",
     "output_type": "stream",
     "text": [
      "<class 'list'>\n",
      "100\n",
      "100\n"
     ]
    }
   ],
   "source": [
    "print(type(total_data))\n",
    "countone = 0\n",
    "countzero = 0\n",
    "\n",
    "from random import shuffle\n",
    "shuffle(total_data)\n",
    "\n",
    "for i in range(len(total_data)):\n",
    "    if total_data[i][3] == 1:\n",
    "        countone += 1\n",
    "    else:\n",
    "        countzero += 1\n",
    "\n",
    "print(countone)\n",
    "print(countzero)\n",
    "\n",
    "#print(total_data)"
   ]
  },
  {
   "cell_type": "code",
   "execution_count": 4,
   "metadata": {},
   "outputs": [
    {
     "data": {
      "image/png": "[encoded data removed]",
      "text/plain": [
       "<matplotlib.figure.Figure at 0x112520a90>"
      ]
     },
     "metadata": {},
     "output_type": "display_data"
    }
   ],
   "source": [
    "plt.scatter(class2_plot[:,1], class2_plot[:,2], color = 'red')\n",
    "plt.scatter(class1_plot[:,1], class1_plot[:,2], color='black')\n",
    "plt.xlabel('Weight')\n",
    "plt.ylabel('Height')\n",
    "plt.title('Black=Class1, Red=Class2')\n",
    "plt.show()"
   ]
  },
  {
   "cell_type": "code",
   "execution_count": 19,
   "metadata": {},
   "outputs": [],
   "source": [
    "def initial_weights():\n",
    "    weights = np.ones(3)\n",
    "    for i in range(3):\n",
    "        weights[i] = np.random.uniform(-1,1)\n",
    "    return weights\n",
    "\n",
    "def gradientDescent(data, eta, iterations, error_threshold, test_data):\n",
    "    # k =1, randomly initialize wi(k)\n",
    "    weights = initial_weights()\n",
    "    print(weights)\n",
    "    error_plot = []\n",
    "    test_errors = []\n",
    "    k = 0\n",
    "    # Calculate E(W)\n",
    "    error = 0\n",
    "    for xx in range(len(data)):\n",
    "        error += (data[xx][3] - sum(data[xx][:3] * weights))**2\n",
    "    \n",
    "    error = error / len(data)\n",
    "    \n",
    "    print(\"STARTING ERROR: \" + str(error) + \"\\n\")\n",
    "    error_rate = 9999\n",
    "    niter = 0\n",
    "    shuffle(data)\n",
    "    while (error_rate > error_threshold and niter < iterations):\n",
    "        total_error = 0\n",
    "        delta_w = [0,0,0]\n",
    "        \n",
    "        #calculate error and delta_w\n",
    "        for i in range(len(data)):\n",
    "            output = sum(weights * data[i][:3])\n",
    "            label = data[i][3]\n",
    "            squared_error = (label - output)**2\n",
    "            total_error += squared_error\n",
    "            \n",
    "            #update delta_w\n",
    "            for j in range(3):\n",
    "                delta_w[j] += eta*(label-output)*data[i][j]\n",
    "                \n",
    "        #apply delta_w to new weights\n",
    "        for j in range(len(weights)):\n",
    "            weights[j] += (delta_w[j] / len(data))\n",
    "        error_rate = (total_error / len(data))\n",
    "        error_plot.append(error_rate)\n",
    "        niter += 1\n",
    "        \n",
    "        # calculate test errors\n",
    "        correct = 0\n",
    "        incorrect = 0\n",
    "        for i in range(len(test_data)):\n",
    "            v = sum(weights * test_data[i][:3])\n",
    "            output = 1 if v >= 0 else -1\n",
    "            if (output == test_data[i][3]):\n",
    "                correct += 1\n",
    "            else:\n",
    "                incorrect += 1\n",
    "        test_error_rate = incorrect / (correct+incorrect)\n",
    "        test_errors.append(test_error_rate)\n",
    "        \n",
    "    print(\"FINAL ERROR: \" + str(error_rate))\n",
    "    return [weights, error_plot, test_errors]"
   ]
  },
  {
   "cell_type": "code",
   "execution_count": 20,
   "metadata": {},
   "outputs": [
    {
     "name": "stdout",
     "output_type": "stream",
     "text": [
      "<class 'list'>\n",
      "[ 0.26569984 -0.5468084  -0.2636161 ]\n",
      "STARTING ERROR: 0.953775824538087\n",
      "\n",
      "FINAL ERROR: 0.38204616282284276\n",
      "\n",
      "\n",
      "[-0.12057345 -1.92374747  1.85128631]\n"
     ]
    }
   ],
   "source": [
    "#Learning Rate 0.05, Error Threshold 0.1, Iteration 2000\n",
    "print(type(total_data))\n",
    "\n",
    "train = total_data[:160]\n",
    "test = total_data[160:]\n",
    "\n",
    "out = gradientDescent(train, 0.05, 2000, 0.01, test)\n",
    "final_weights = out[0]\n",
    "error_plot = out[1]\n",
    "test_errors = out[2]\n",
    "print(\"\\n\")\n",
    "print(final_weights)"
   ]
  },
  {
   "cell_type": "code",
   "execution_count": 22,
   "metadata": {},
   "outputs": [
    {
     "data": {
      "image/png": "[encoded data removed]",
      "text/plain": [
       "<matplotlib.figure.Figure at 0x112a2ff98>"
      ]
     },
     "metadata": {},
     "output_type": "display_data"
    }
   ],
   "source": [
    "plt.plot(error_plot, color = 'blue')\n",
    "plt.plot(test_errors, color = 'red')\n",
    "plt.title('Blue = Squared Error Rate during Training, Red = Misclassification Error % on Test Set')\n",
    "plt.show()"
   ]
  },
  {
   "cell_type": "code",
   "execution_count": 23,
   "metadata": {},
   "outputs": [
    {
     "name": "stdout",
     "output_type": "stream",
     "text": [
      "1.039140981987705\n",
      "0.06512955265823181\n"
     ]
    },
    {
     "data": {
      "image/png": "[encoded data removed]",
      "text/plain": [
       "<matplotlib.figure.Figure at 0x112afa470>"
      ]
     },
     "metadata": {},
     "output_type": "display_data"
    }
   ],
   "source": [
    "slope = final_weights[1] / final_weights[2] * -1\n",
    "intercept = final_weights[0] / final_weights[2] * -1\n",
    "\n",
    "print(slope)\n",
    "print(intercept)\n",
    "def boundary(x, slope, intercept):\n",
    "    return slope*x+intercept\n",
    "\n",
    "plt.scatter(class2_plot[:,1], class2_plot[:,2], color = 'red')\n",
    "plt.scatter(class1_plot[:,1], class1_plot[:,2], color='black')\n",
    "x = np.linspace(0,1, 10)\n",
    "plt.plot(x, boundary(x, slope, intercept), color = 'blue')\n",
    "\n",
    "plt.xlabel('Weight')\n",
    "plt.ylabel('Height')\n",
    "plt.title('Black=Class1, Red=Class2')\n",
    "plt.show()"
   ]
  },
  {
   "cell_type": "code",
   "execution_count": 24,
   "metadata": {},
   "outputs": [],
   "source": [
    "correct = 0\n",
    "incorrect = 0\n",
    "for i in range(len(test)):\n",
    "    v = sum(final_weights * test[i][:3])\n",
    "    output = 1 if v >= 0 else -1\n",
    "    if (output == test[i][3]):\n",
    "        correct += 1\n",
    "    else:\n",
    "        incorrect += 1"
   ]
  },
  {
   "cell_type": "code",
   "execution_count": 25,
   "metadata": {},
   "outputs": [
    {
     "name": "stdout",
     "output_type": "stream",
     "text": [
      "95.0\n"
     ]
    }
   ],
   "source": [
    "print(correct / (correct+incorrect)*100)"
   ]
  },
  {
   "cell_type": "code",
   "execution_count": null,
   "metadata": {},
   "outputs": [],
   "source": []
  }
 ],
 "metadata": {
  "kernelspec": {
   "display_name": "Python 3",
   "language": "python",
   "name": "python3"
  },
  "language_info": {
   "codemirror_mode": {
    "name": "ipython",
    "version": 3
   },
   "file_extension": ".py",
   "mimetype": "text/x-python",
   "name": "python",
   "nbconvert_exporter": "python",
   "pygments_lexer": "ipython3",
   "version": "3.6.4"
  }
 },
 "nbformat": 4,
 "nbformat_minor": 2
}
